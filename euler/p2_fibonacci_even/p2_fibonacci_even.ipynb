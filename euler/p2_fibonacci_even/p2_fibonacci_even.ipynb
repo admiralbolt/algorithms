{
 "cells": [
  {
   "cell_type": "markdown",
   "metadata": {},
   "source": [
    "### Problem Statement\n",
    "\n",
    "By considering the terms in the Fibonacci sequence whose values do not exceed four million, find the sum of the even-valued terms."
   ]
  },
  {
   "cell_type": "markdown",
   "metadata": {},
   "source": [
    "### Solution 1\n",
    "\n",
    "Again there is an easy iterative solution. Generate the list of fibonacci numbers with values less than four million and sum the even terms. We can take advantage of the even numbers occurring every 3 terms:\n",
    "\n",
    "odd + odd = even (2)\n",
    "\n",
    "even + odd = odd (3)\n",
    "\n",
    "odd + even = odd (5)\n",
    "\n",
    "odd + odd = even (8)"
   ]
  },
  {
   "cell_type": "code",
   "execution_count": null,
   "metadata": {
    "collapsed": true
   },
   "outputs": [],
   "source": [
    "# %load -s sum_slow p2_fibonacci_even.py\n",
    "def sum_slow(max_value):\n",
    "  # Precompute fib numbers\n",
    "  fib_numbers = math_utils.fib(33)\n",
    "  total_sum = 0\n",
    "  for i in range(2, 33, 3):\n",
    "    if fib_numbers[i] < max_value:\n",
    "      total_sum += fib_numbers[i]\n",
    "  return total_sum\n"
   ]
  },
  {
   "cell_type": "markdown",
   "metadata": {},
   "source": [
    "### Solution 2\n",
    "\n",
    "We can solve this discretely using Binet's formula. But I want to understand how Binet's formula works so here's some derivation work. It revolves around the quadratic $x^2 - x - 1 = 0$. We can see the fibonacci numbers emerge from generalizing this quadratic to higher powers, we start with $x^2 = x + 1$:\n",
    "\n",
    "$$\n",
    "\\begin{align}\n",
    "  x^2 &= x + 1 \\\\\n",
    "  x^3 &= x^2 \\cdot x \\\\\n",
    "      &= x \\cdot x + 1 \\\\\n",
    "      &= x^2 + x \\\\\n",
    "      &= 2x + 1 \\\\\n",
    "  x^4 &= 2x^2 + x \\\\\n",
    "      &= 2 \\cdot (x + 1) + x \\\\\n",
    "      &= 3x + 2 \\\\\n",
    "  x^5 &= 3x^2 + 2x \\\\\n",
    "      &= 3 \\cdot (x + 1) + 2x \\\\\n",
    "      &= 5x + 3\n",
    "\\end{align}\n",
    "$$\n",
    "\n",
    "We define $f_n$ as the $n$th fibonacci number, and get:\n",
    "\n",
    "$$\n",
    "x^n = f_{n} \\cdot x + f_{n - 1}\n",
    "$$\n",
    "\n",
    "Since $x$ came from a quadratic, we can get two possible values for $x$ using an old formula from highschool:\n",
    "\n",
    "$$ \\frac{-b \\pm \\sqrt(b^2 - 4ac)}{2a} $$\n",
    "\n",
    "This yields two values:\n",
    "$$\n",
    "\\phi = \\frac{1 + \\sqrt{5}}{2} \\\\\n",
    "\\phi' = \\frac{1 - \\sqrt{5}}{2}\n",
    "$$\n",
    "\n",
    "We can plug these back into our equation to get two:\n",
    "\n",
    "$$\n",
    "\\begin{align}\n",
    "  \\phi^n &= \\phi \\cdot f_{n} + f_{n - 1} \\\\\n",
    "  \\phi'^n &= \\phi' \\cdot f_{n} + f_{n - 1} \\\\\n",
    "\\end{align}\n",
    "$$\n",
    "\n",
    "And now we solve for $f_{n}$:\n",
    "\n",
    "$$\n",
    "\\begin{align}\n",
    "    \\phi^n &= \\phi \\cdot f_{n} + f_{n - 1} \\\\\n",
    "    \\phi^n &= \\phi \\cdot f_{n} + \\phi'^n - \\phi' \\cdot f_{n} \\\\\n",
    "    \\phi^n - \\phi'^n &= \\phi \\cdot f_{n} - \\phi' \\cdot f_{n} \\\\\n",
    "    \\phi^n - \\phi'^n &= f_{n} \\cdot (\\phi - \\phi') \\\\\n",
    "    \\frac{\\phi^n - \\phi'^n}{\\phi - \\phi'} &= f_{n}\n",
    "\\end{align}\n",
    "$$\n",
    "\n",
    "Since $\\phi$ and $\\phi'$ are constants we can simply this slightly to:\n",
    "\n",
    "$$f_{n} = \\frac{\\phi^n - \\phi'^n}{\\sqrt{5}}$$\n",
    "\n",
    "The only thing left to do is actually sum the numbers we discretely calculate, and figure out the last fibonacci number less than the target value:"
   ]
  },
  {
   "cell_type": "code",
   "execution_count": null,
   "metadata": {
    "collapsed": true
   },
   "outputs": [],
   "source": [
    "# %load -s bisect p2_fibonacci_even.py\n",
    "def bisect(max_value):\n",
    "  # Precompute fib_numbers\n",
    "  fib_numbers = math_utils.fib(500)\n",
    "  for i, val in enumerate(fib_numbers):\n",
    "    if val > max_value:\n",
    "      return i - 1\n",
    "  return i\n"
   ]
  },
  {
   "cell_type": "code",
   "execution_count": 4,
   "metadata": {},
   "outputs": [
    {
     "name": "stdout",
     "output_type": "stream",
     "text": [
      "32\n"
     ]
    }
   ],
   "source": [
    "import p2_fibonacci_even\n",
    "\n",
    "print(p2_fibonacci_even.bisect(4000000))"
   ]
  },
  {
   "cell_type": "code",
   "execution_count": null,
   "metadata": {
    "collapsed": true
   },
   "outputs": [],
   "source": [
    "# %load -s sum_discrete p2_fibonacci_even.py\n",
    "def sum_discrete(max_iter):\n",
    "  total_sum = 0\n",
    "  for i in range(3, max_iter + 1, 3):\n",
    "    total_sum += math_utils.fib_discrete(i)\n",
    "  return total_sum\n"
   ]
  },
  {
   "cell_type": "code",
   "execution_count": null,
   "metadata": {
    "collapsed": true
   },
   "outputs": [],
   "source": [
    "import p2_fibonacci_even\n",
    "\n",
    "print(\"Iterative sum: %s.\" % p2_fibonacci_even.sum_slow(4000000))\n",
    "print(\"Discrete sum: %s.\" % p2_fibo"
   ]
  }
 ],
 "metadata": {
  "kernelspec": {
   "display_name": "Python 3",
   "language": "python",
   "name": "python3"
  },
  "language_info": {
   "codemirror_mode": {
    "name": "ipython",
    "version": 3
   },
   "file_extension": ".py",
   "mimetype": "text/x-python",
   "name": "python",
   "nbconvert_exporter": "python",
   "pygments_lexer": "ipython3",
   "version": "3.6.1"
  }
 },
 "nbformat": 4,
 "nbformat_minor": 2
}
