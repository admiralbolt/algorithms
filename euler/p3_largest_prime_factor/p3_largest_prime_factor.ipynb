{
 "cells": [
  {
   "cell_type": "markdown",
   "metadata": {},
   "source": [
    "### Problem Statement\n",
    "\n",
    "What is the largest prime factor of the number 600851475143"
   ]
  },
  {
   "cell_type": "markdown",
   "metadata": {},
   "source": [
    "### Solution 1\n",
    "I can't really think of a way better than brute force. If we write out a number in prime factorized form it looks like this:\n",
    "\n",
    "$$ n = p_{1}^{k_{1}} \\cdot p_{2}^{k_{2}} \\cdot \\ldots \\cdot p_{j}^{k_{j}} $$\n",
    "\n",
    "We can use this fact to help us out somewhat when factoring. Once we find a prime that divides our number, we can retry it until it stops dividing to find the corresponding value of $k$."
   ]
  },
  {
   "cell_type": "code",
   "execution_count": null,
   "metadata": {
    "collapsed": true
   },
   "outputs": [],
   "source": [
    "# %load -s prime_factors_brute p3_largest_prime_factor.py\n",
    "def prime_factors_brute(n, max_iter=1000000):\n",
    "  primes = []\n",
    "  powers = []\n",
    "  remainder = n\n",
    "  number = 2\n",
    "  while remainder > 0:\n",
    "    if remainder % number == 0:\n",
    "      primes.append(number)\n",
    "      power = 1\n",
    "      remainder = remainder / number\n",
    "      while remainder % number == 0:\n",
    "        power += 1\n",
    "        remainder = remainder / number\n",
    "      powers.append(power)\n",
    "    number += 1\n",
    "  return primes, powers\n"
   ]
  },
  {
   "cell_type": "code",
   "execution_count": 1,
   "metadata": {},
   "outputs": [
    {
     "name": "stdout",
     "output_type": "stream",
     "text": [
      "Remainder: 8462696833.0. Prime: 71. Power: 1.\n",
      "Remainder: 10086647.0. Prime: 839. Power: 1.\n",
      "Remainder: 6857.0. Prime: 1471. Power: 1.\n",
      "Remainder: 1.0. Prime: 6857. Power: 1.\n",
      "\n",
      "Primes: [71, 839, 1471, 6857] \n",
      " Powers: [1, 1, 1, 1]\n"
     ]
    }
   ],
   "source": [
    "import p3_largest_prime_factor\n",
    "\n",
    "primes, powers = p3_largest_prime_factor.prime_factors_brute(600851475143)\n",
    "print(\"Primes: %s \\n Powers: %s\" % (primes, powers))"
   ]
  }
 ],
 "metadata": {
  "kernelspec": {
   "display_name": "Python 3",
   "language": "python",
   "name": "python3"
  },
  "language_info": {
   "codemirror_mode": {
    "name": "ipython",
    "version": 3
   },
   "file_extension": ".py",
   "mimetype": "text/x-python",
   "name": "python",
   "nbconvert_exporter": "python",
   "pygments_lexer": "ipython3",
   "version": "3.6.1"
  }
 },
 "nbformat": 4,
 "nbformat_minor": 2
}
