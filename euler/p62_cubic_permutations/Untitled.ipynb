{
 "cells": [
  {
   "cell_type": "markdown",
   "metadata": {},
   "source": [
    "# Problem Statement\n",
    "\n",
    "The cube, 41063625 (3453), can be permuted to produce two other cubes: 56623104 (3843) and 66430125 (4053). In fact, 41063625 is the smallest cube which has exactly three permutations of its digits which are also cube.\n",
    "\n",
    "Find the smallest cube for which exactly five permutations of its digits are cube."
   ]
  },
  {
   "cell_type": "markdown",
   "metadata": {},
   "source": [
    "## Solution\n",
    "\n",
    "I think this one is pretty straightforward, unless I'm underthinking something. We generate a ridiculous amount of cubic numbers, and bucket them by their number of digits. For each of these buckets, we then bin the total number of cubes that have the same total numbers of digits in them. So first we generate a buncha cubes:"
   ]
  },
  {
   "cell_type": "code",
   "execution_count": 8,
   "metadata": {},
   "outputs": [
    {
     "name": "stdout",
     "output_type": "stream",
     "text": [
      "4 12\n",
      "5 25\n",
      "6 53\n",
      "7 116\n",
      "8 249\n",
      "9 535\n",
      "10 1155\n",
      "11 2487\n",
      "12 5358\n"
     ]
    }
   ],
   "source": [
    "import collections\n",
    "\n",
    "buckets = collections.defaultdict(list)\n",
    "for i in range(10, 10000):\n",
    "    cube = i * i * i\n",
    "    buckets[len(str(cube))].append(cube)\n",
    "    \n",
    "for digits, cubes in buckets.items():\n",
    "    print(digits, len(cubes))"
   ]
  },
  {
   "cell_type": "code",
   "execution_count": 15,
   "metadata": {},
   "outputs": [
    {
     "name": "stdout",
     "output_type": "stream",
     "text": [
      "frozenset({(0, 1), (3, 2), (4, 1), (9, 1), (7, 1), (8, 1), (6, 1), (2, 1), (5, 2), (1, 1)}) [127035954683, 352045367981, 373559126408, 569310543872, 589323567104]\n",
      "frozenset({(0, 1), (3, 2), (9, 1), (7, 1), (8, 1), (2, 1), (6, 2), (5, 1), (4, 1), (1, 1)}) [140283769536, 536178930624, 613258407936, 913237656408, 936302451687]\n"
     ]
    }
   ],
   "source": [
    "bins = {}\n",
    "\n",
    "def cube_hash(cube):\n",
    "    return frozenset(collections.Counter([int(x) for x in str(cube)]).items())\n",
    "\n",
    "\n",
    "for digits, cubes in buckets.items():\n",
    "    bins[digits] = collections.defaultdict(list)\n",
    "    for cube in cubes:\n",
    "        bins[digits][cube_hash(cube)].append(cube)\n",
    "\n",
    "for digit in bins:\n",
    "    for number_set, cubes in bins[digit].items():\n",
    "        if len(cubes) != 5:\n",
    "            continue\n",
    "        \n",
    "        print(number_set, cubes)\n",
    "            \n",
    "    "
   ]
  },
  {
   "cell_type": "markdown",
   "metadata": {},
   "source": [
    "Now we just select the smallest cube out of the sets with 5!"
   ]
  },
  {
   "cell_type": "code",
   "execution_count": null,
   "metadata": {},
   "outputs": [],
   "source": []
  }
 ],
 "metadata": {
  "kernelspec": {
   "display_name": "Python 3",
   "language": "python",
   "name": "python3"
  },
  "language_info": {
   "codemirror_mode": {
    "name": "ipython",
    "version": 3
   },
   "file_extension": ".py",
   "mimetype": "text/x-python",
   "name": "python",
   "nbconvert_exporter": "python",
   "pygments_lexer": "ipython3",
   "version": "3.7.7"
  }
 },
 "nbformat": 4,
 "nbformat_minor": 4
}
