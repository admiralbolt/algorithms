{
 "cells": [
  {
   "cell_type": "markdown",
   "metadata": {},
   "source": [
    "### Problem Statement:\n",
    "\n",
    "Find the sum of all multiples of 3 or 5 below 1000."
   ]
  },
  {
   "cell_type": "markdown",
   "metadata": {},
   "source": [
    "### Solution 1\n",
    "There's a straightforward iterative solution:\n",
    "\n",
    "1. Loop through the numbers up to 1000.\n",
    "2. For each number, check and see if it's divisble by 3 or 5.\n",
    "3. If it is, add it to the total sum!"
   ]
  },
  {
   "cell_type": "code",
   "execution_count": 1,
   "metadata": {
    "collapsed": true
   },
   "outputs": [],
   "source": [
    "# %load -s slow_solve p1_multiples.py\n",
    "def slow_solve(max_inclusive):\n",
    "  \"\"\"\n",
    "  Iterate through the numbers and sum them if they are divisible by 3 or 5.\n",
    "  \"\"\"\n",
    "  total_sum = 0\n",
    "  for i in range(1, max_inclusive):\n",
    "    if i % 3 == 0 or i % 5 == 0:\n",
    "      total_sum += i\n",
    "  return total_sum\n"
   ]
  },
  {
   "cell_type": "markdown",
   "metadata": {},
   "source": [
    "### Solution 2\n",
    "There's a clever-er solution that we can calculate discretly. Imagine a simpler problem, in which we are *only* summing the numbers divisble by 3:\n",
    "\n",
    "$s = 3 + 6 + 9 + \\ldots$\n",
    "\n",
    "We can rewrite this sum like so:\n",
    "\n",
    "$$\n",
    "\\begin{align}\n",
    "  s_n &= 1 \\cdot 3 + 2 \\cdot 3 + 3 \\cdot 3 + \\ldots + n \\cdot 3 \\\\\n",
    "      &= \\frac{n \\cdot (n + 1)}{2} \\cdot 3\n",
    "\\end{align}\n",
    "$$\n",
    "\n",
    "It becomes easily calculable without iterating through lots of numbers. Now to solve the original problem. From this, we can calculate similar sums for any number. We'll define:\n",
    "\n",
    "$$R_{i, \\, n} = \\frac{n \\cdot (n + 1)}{2} \\cdot i$$\n",
    "\n",
    "If we simply sum all values divisble by 3 and divisble by 5, we will double count integers that are divisble by both. So if we subtract the sum of the numbers divisble by 15, we will end up with the correct answer. So for some values $j, k, l$ we have:\n",
    "\n",
    "$$s = R_{3, \\, j} + R_{5, \\, k} - R_{15, \\, l}$$\n",
    "\n",
    "We only need to calculate these values of $j, k, l$, which follows pretty easily as the floor of $\\frac{1000}{i}$\n"
   ]
  },
  {
   "cell_type": "code",
   "execution_count": null,
   "metadata": {
    "collapsed": true
   },
   "outputs": [],
   "source": [
    "# %load -s discrete_solve p1_multiples.py\n",
    "def discrete_solve(max_inclusive):\n",
    "  \"\"\"\n",
    "  Discretly solves the problem with the following formula:\n",
    "    R_3 + R_5 - R_15\n",
    "  Where:\n",
    "    R_3 = sum all numbers divisble by 3 <= max\n",
    "    R_5 = sum all numbers divisible by 5 <= max\n",
    "    R_15 = sum all numbers divisble by 15 <= max\n",
    "  \"\"\"\n",
    "  three_sum = math_utils.gaussian_sum(math.floor(max_inclusive / 3)) * 3\n",
    "  five_sum = math_utils.gaussian_sum(math.floor(max_inclusive / 5)) * 5\n",
    "  fifteen_sum = math_utils.gaussian_sum(math.floor(max_inclusive / 15)) * 15\n",
    "  return int(three_sum + five_sum - fifteen_sum)\n"
   ]
  },
  {
   "cell_type": "code",
   "execution_count": 3,
   "metadata": {},
   "outputs": [
    {
     "name": "stdout",
     "output_type": "stream",
     "text": [
      "Total Sum: 233168\n",
      "Total Sum: 233168\n"
     ]
    }
   ],
   "source": [
    "import p1_multiples\n",
    "\n",
    "print(\"Total Sum: %s\" % p1_multiples.slow_solve(999))\n",
    "print(\"Total Sum: %s\" % p1_multiples.discrete_solve(999))"
   ]
  },
  {
   "cell_type": "code",
   "execution_count": null,
   "metadata": {
    "collapsed": true
   },
   "outputs": [],
   "source": []
  }
 ],
 "metadata": {
  "kernelspec": {
   "display_name": "Python 3",
   "language": "python",
   "name": "python3"
  },
  "language_info": {
   "codemirror_mode": {
    "name": "ipython",
    "version": 3
   },
   "file_extension": ".py",
   "mimetype": "text/x-python",
   "name": "python",
   "nbconvert_exporter": "python",
   "pygments_lexer": "ipython3",
   "version": "3.6.1"
  }
 },
 "nbformat": 4,
 "nbformat_minor": 2
}
