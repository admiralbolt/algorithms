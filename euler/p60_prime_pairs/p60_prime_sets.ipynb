{
 "cells": [
  {
   "cell_type": "markdown",
   "metadata": {},
   "source": [
    "# Problem Statement\n",
    "\n",
    "The primes 3, 7, 109, and 673, are quite remarkable. By taking any two primes and concatenating them in any order the result will always be prime. For example, taking 7 and 109, both 7109 and 1097 are prime. The sum of these four primes, 792, represents the lowest sum for a set of four primes with this property.\n",
    "\n",
    "Find the lowest sum for a set of five primes for which any two primes concatenate to produce another prime."
   ]
  },
  {
   "cell_type": "markdown",
   "metadata": {},
   "source": [
    "# Ideas\n",
    "\n",
    "We can't do a full brute force of this, but I've got an idea. We're looking for a 5-set of primes. But since each of these is made up of a pair of primes. So we can solve this with graph theory! We'll create nodes for each number, edges for the prime pairs, and then look for the smallest connected component that has at least 5 primes.\n",
    "\n"
   ]
  },
  {
   "cell_type": "code",
   "execution_count": 1,
   "metadata": {},
   "outputs": [],
   "source": [
    "import os\n",
    "import sys\n",
    "\n",
    "module_path = os.path.abspath(os.path.join('..'))\n",
    "if module_path not in sys.path:\n",
    "    sys.path.append(module_path)\n",
    "\n",
    "from utils import math_utils\n",
    "from utils import prime_utils\n",
    "\n",
    "is_prime, primes = prime_utils.load_primes()"
   ]
  },
  {
   "cell_type": "code",
   "execution_count": 24,
   "metadata": {},
   "outputs": [
    {
     "name": "stdout",
     "output_type": "stream",
     "text": [
      "[(3, 7), (3, 11), (3, 17), (3, 31), (3, 37), (3, 59), (3, 67), (3, 73), (3, 109), (3, 137), (3, 191), (3, 229), (3, 271), (3, 331), (3, 359), (3, 373), (3, 449), (3, 467), (3, 499), (3, 541), (3, 557), (3, 607), (3, 613), (3, 617), (3, 673), (3, 701), (3, 719), (3, 733), (3, 739), (3, 823), (3, 929), (3, 947), (3, 1013), (3, 1019), (3, 1033), (3, 1051), (3, 1181), (3, 1193), (3, 1237), (3, 1481), (3, 1531), (3, 1607), (3, 1627), (3, 1657), (3, 1663), (3, 1667), (3, 1699), (3, 1907), (3, 2069), (3, 2143), (3, 2213), (3, 2297), (3, 2377), (3, 2381), (3, 2411), (3, 2441), (3, 2503), (3, 2579), (3, 2707), (3, 2789), (3, 2843), (3, 2917), (3, 2957), (3, 3049), (3, 3119), (3, 3301), (3, 3461), (3, 3469), (3, 3637), (3, 3769), (3, 3911), (3, 3923), (3, 3931), (3, 4019), (3, 4159), (3, 4253), (3, 4583), (3, 4729), (3, 4919), (3, 5051), (3, 5059), (3, 5099), (3, 5171), (3, 5281), (3, 5323), (3, 5381), (3, 5419), (3, 5449), (3, 5507), (3, 5521), (3, 5531), (3, 5573), (3, 5801), (3, 5839), (3, 5869), (3, 5923), (3, 6037), (3, 6073), (3, 6263), (3, 6277)]\n"
     ]
    }
   ],
   "source": [
    "prime_pairs = []\n",
    "num_primes = 1100\n",
    "\n",
    "for i in range(num_primes - 1):\n",
    "  a = primes[i]\n",
    "  for j in range(i + 1, num_primes):\n",
    "    b = primes[j]\n",
    "    if is_prime[math_utils.concat(a, b)] and is_prime[math_utils.concat(b, a)]:\n",
    "      prime_pairs.append((a, b))\n",
    "\n",
    "print(prime_pairs[:100])"
   ]
  },
  {
   "cell_type": "markdown",
   "metadata": {},
   "source": [
    "For each of these prime pairs we'll group them together into maximal components. Hopefully, we'll find one with at least 5 primes in it. We'll build our graph using the prime_pairs as node -> node edges. Then we iterate through each node in our graph in the following manner:\n",
    "1. Build a component with the starting node.\n",
    "2. Consider each of the adjacent nodes, and see if we can add them to the component.\n",
    "3. Recurse, considering each of the adjacent nodes adjacent nodes.\n",
    "4. Once we stop, we've built a \"maximal component\"."
   ]
  },
  {
   "cell_type": "code",
   "execution_count": 25,
   "metadata": {},
   "outputs": [
    {
     "name": "stdout",
     "output_type": "stream",
     "text": [
      "component: [5197, 13, 5701, 6733, 8389], sum: 26033\n",
      "component: [5701, 13, 5197, 6733, 8389], sum: 26033\n",
      "component: [6733, 13, 5197, 5701, 8389], sum: 26033\n",
      "component: [8389, 13, 5197, 5701, 6733], sum: 26033\n",
      "max_len: 5\n"
     ]
    }
   ],
   "source": [
    "import collections\n",
    "\n",
    "\n",
    "def can_add_to_component(graph, visited, component, node_to_add):\n",
    "  if node_to_add in component:\n",
    "    return False\n",
    "  if visited[node_to_add]:\n",
    "    return False\n",
    "  for node in component:\n",
    "    if node not in graph[node_to_add]:\n",
    "      return False\n",
    "  return True\n",
    "\n",
    "def build_components(graph, visited, node, components=[], component=[]):\n",
    "  component.append(node)\n",
    "  for adj in graph[node]:\n",
    "    if not can_add_to_component(graph, visited, component, adj):\n",
    "      continue\n",
    "    visited[node] = True\n",
    "    components.append(build_components(graph, visited, adj, components=components, component=component))\n",
    "  # Deep copy the component\n",
    "  final_component = component + []\n",
    "  component.pop()\n",
    "  return final_component\n",
    "\n",
    "graph = collections.defaultdict(list)\n",
    "\n",
    "\n",
    "# Add both edges since this graph is undirected.\n",
    "for a, b in prime_pairs:\n",
    "  graph[a].append(b)\n",
    "  graph[b].append(a)\n",
    "  \n",
    "components = {prime: [] for prime in graph.keys()}\n",
    "  \n",
    "for prime in list(graph.keys()):\n",
    "  visited = {prime: False for prime in graph.keys()}\n",
    "  build_components(graph, visited, prime, components=components[prime])\n",
    "    \n",
    "max_len = 0\n",
    "for prime, component_list in components.items():\n",
    "  for component in component_list:\n",
    "    if len(component) > max_len:\n",
    "      max_len = len(component)\n",
    "    if len(component) >= 5:\n",
    "      print(f\"component: {component}, sum: {sum(component)}\")\n",
    "\n",
    "print(f\"max_len: {max_len}\")\n",
    "\n",
    "  "
   ]
  },
  {
   "cell_type": "code",
   "execution_count": null,
   "metadata": {},
   "outputs": [],
   "source": []
  }
 ],
 "metadata": {
  "kernelspec": {
   "display_name": "Python 3",
   "language": "python",
   "name": "python3"
  },
  "language_info": {
   "codemirror_mode": {
    "name": "ipython",
    "version": 3
   },
   "file_extension": ".py",
   "mimetype": "text/x-python",
   "name": "python",
   "nbconvert_exporter": "python",
   "pygments_lexer": "ipython3",
   "version": "3.6.8"
  }
 },
 "nbformat": 4,
 "nbformat_minor": 2
}
