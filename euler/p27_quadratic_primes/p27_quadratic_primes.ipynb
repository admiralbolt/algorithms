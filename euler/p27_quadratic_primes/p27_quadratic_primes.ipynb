{
 "cells": [
  {
   "cell_type": "markdown",
   "metadata": {},
   "source": [
    "# Problem Statement\n",
    "\n",
    "Considering quadratics of the form:\n",
    "\n",
    "$$n^2 + bn + c \\text{ where } |b| < 1000 \\text{ and } |c| <= 1000 $$\n",
    "\n",
    "Find the product of the coefficients, $a$ and $b$, for the quadratic expression that produces the maximum number of primes for consecutive values of $n$, starting with $n = 0$."
   ]
  },
  {
   "cell_type": "markdown",
   "metadata": {},
   "source": [
    "## Exploration\n",
    "\n",
    "From the examples provided we get a few hints which we can use. The first thing to note is that this is starting with $n = 0$. If we evaluate $n^2 + bn + c$ for $n = 0$ we just get $c$. If every number is going to prime, then $n = 0$ must be prime therefore $c$ must be a prime.\n",
    "\n",
    "It should also be noted that $n = c$ is a problem spot:\n",
    "\n",
    "$$n^2 + bn + c = c^2 + cn + c = c \\cdot (c + n + 1)$$\n",
    "\n",
    "This produces a number that is divisible by $c$. So the maximum number of consecutive primes we can generate is strictly bounded by $c$. If we evaluate $n = b$ we get $2b^2 + c$. The maximum number of consecutive primes could also be bounded by $b$ if $c$ and $b$ share any common factors.\n",
    "\n",
    "I want to try and bound the value of $b$ in some way, so let's look at the properties of $n^2 + c$ for a few values of $c$. I'm going to leave out $c = 2$ "
   ]
  },
  {
   "cell_type": "code",
   "execution_count": 9,
   "metadata": {},
   "outputs": [
    {
     "data": {
      "text/html": [
       "<table>\n",
       "<tbody>\n",
       "<tr><td>    </td><td>c=3</td><td>c=5</td><td>c=7</td><td>c=11</td><td>c=13</td><td>c=17</td><td>c=19</td></tr>\n",
       "<tr><td>n=0 </td><td>3  </td><td>5  </td><td>7  </td><td>11  </td><td>13  </td><td>17  </td><td>19  </td></tr>\n",
       "<tr><td>n=1 </td><td>4  </td><td>6  </td><td>8  </td><td>12  </td><td>14  </td><td>18  </td><td>20  </td></tr>\n",
       "<tr><td>n=2 </td><td>7  </td><td>9  </td><td>11 </td><td>15  </td><td>17  </td><td>21  </td><td>23  </td></tr>\n",
       "<tr><td>n=3 </td><td>12 </td><td>14 </td><td>16 </td><td>20  </td><td>22  </td><td>26  </td><td>28  </td></tr>\n",
       "<tr><td>n=4 </td><td>19 </td><td>21 </td><td>23 </td><td>27  </td><td>29  </td><td>33  </td><td>35  </td></tr>\n",
       "<tr><td>n=5 </td><td>28 </td><td>30 </td><td>32 </td><td>36  </td><td>38  </td><td>42  </td><td>44  </td></tr>\n",
       "<tr><td>n=6 </td><td>39 </td><td>41 </td><td>43 </td><td>47  </td><td>49  </td><td>53  </td><td>55  </td></tr>\n",
       "<tr><td>n=7 </td><td>52 </td><td>54 </td><td>56 </td><td>60  </td><td>62  </td><td>66  </td><td>68  </td></tr>\n",
       "<tr><td>n=8 </td><td>67 </td><td>69 </td><td>71 </td><td>75  </td><td>77  </td><td>81  </td><td>83  </td></tr>\n",
       "<tr><td>n=9 </td><td>84 </td><td>86 </td><td>88 </td><td>92  </td><td>94  </td><td>98  </td><td>100 </td></tr>\n",
       "<tr><td>n=10</td><td>103</td><td>105</td><td>107</td><td>111 </td><td>113 </td><td>117 </td><td>119 </td></tr>\n",
       "</tbody>\n",
       "</table>"
      ],
      "text/plain": [
       "<IPython.core.display.HTML object>"
      ]
     },
     "metadata": {},
     "output_type": "display_data"
    }
   ],
   "source": [
    "from IPython.display import HTML, display\n",
    "import tabulate\n",
    "\n",
    "\n",
    "seas = [3, 5, 7, 11, 13, 17, 19]\n",
    "data = [[\"\"] + [\"c=%s\" % c for c in seas]]\n",
    "for n in range(11):\n",
    "    data.append([\"n=%s\" % n] + [n * n + c for c in seas])\n",
    "    \n",
    "display(HTML(tabulate.tabulate(data, tablefmt='html')))\n",
    "\n",
    "\n"
   ]
  },
  {
   "cell_type": "markdown",
   "metadata": {},
   "source": [
    "It's easy to tell from this that for all values of $c$ the value of $n^2 + c$ alternate signs. If $n$ is even, then $n^2 + c$ is odd. If $n$ is odd, then $n^2 + c$ is even. Since primes must be odd, it must be that $b$ is an odd number, that way $n^2 + bn + c$ is odd for all values of $n$.\n",
    "\n",
    "My gut reaction is that $b$ probably also needs to be prime too, but clearly it's not a necessity since $n^2 + n + 41$ functions up to $n = 39$."
   ]
  },
  {
   "cell_type": "markdown",
   "metadata": {},
   "source": [
    "## Brute Force\n",
    "\n",
    "We have a some pretty good limitations on the values of $b$ and $c$ now, so we start evaluating. It's important to note that even though the magnitude of $b$ and $c$ must be less than 1000, the upper bound on the primes generated can be much higher. If we pick the largest possible values for $b$ and $c$ (roughly 1000) and evaluate for $n = 1000$, we'll get ~2 million.\n",
    "\n",
    "As pre-computation, I've generated all primes less than 10 million, as well as a separate set of primes less than 1000. The actual brute force logic will be pretty straightforward.\n"
   ]
  },
  {
   "cell_type": "code",
   "execution_count": null,
   "metadata": {},
   "outputs": [],
   "source": []
  }
 ],
 "metadata": {
  "kernelspec": {
   "display_name": "Python 3",
   "language": "python",
   "name": "python3"
  },
  "language_info": {
   "codemirror_mode": {
    "name": "ipython",
    "version": 3
   },
   "file_extension": ".py",
   "mimetype": "text/x-python",
   "name": "python",
   "nbconvert_exporter": "python",
   "pygments_lexer": "ipython3",
   "version": "3.7.1"
  }
 },
 "nbformat": 4,
 "nbformat_minor": 2
}
